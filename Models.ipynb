{
  "nbformat": 4,
  "nbformat_minor": 0,
  "metadata": {
    "kernelspec": {
      "display_name": "Python 3 (ipykernel)",
      "language": "python",
      "name": "python3"
    },
    "language_info": {
      "codemirror_mode": {
        "name": "ipython",
        "version": 3
      },
      "file_extension": ".py",
      "mimetype": "text/x-python",
      "name": "python",
      "nbconvert_exporter": "python",
      "pygments_lexer": "ipython3",
      "version": "3.8.10"
    },
    "colab": {
      "name": "Models.ipynb",
      "provenance": [],
      "collapsed_sections": []
    }
  },
  "cells": [
    {
      "cell_type": "markdown",
      "metadata": {
        "id": "Kz-yCvQIfRDf"
      },
      "source": [
        "# Stock Market Prediction "
      ]
    },
    {
      "cell_type": "markdown",
      "metadata": {
        "id": "geFGFymfCM--"
      },
      "source": [
        "\n",
        "\n",
        "1.   Amazon - AMZN\n",
        "2.   Apple - AAPL\n",
        "3.   Microsoft - MSFT\n",
        "4. Google - GOOGL\n",
        "5. Tesla - TSLA\n",
        "6. Oracle - ORCL\n"
      ]
    },
    {
      "cell_type": "code",
      "metadata": {
        "scrolled": true,
        "id": "viG2N_9pfRDj"
      },
      "source": [
        "# Dataset download\n",
        "import pandas_datareader as pr\n",
        "import pandas as pd\n",
        "import matplotlib.pyplot as plt\n",
        "import math\n",
        "from sklearn.metrics import mean_squared_error\n",
        "\n",
        "step = 70 # time step\n",
        "company = 'ORCL'\n",
        "price_type = 'close'\n",
        "plt.style.use('fivethirtyeight')\n",
        "plt.figure(figsize=(14,8))\n",
        "data = pr.get_data_tiingo(company, api_key=\"0f6351ae343427e511f4d085681db7e303ffb969\")\n",
        "data.to_csv(company+'.csv')\n",
        "\n",
        "data = pd.read_csv(company+'.csv')\n",
        "\n",
        "# Baseline calculation\n",
        "\n",
        "Base_errors = []\n",
        "\n",
        "for types in ['open','close','high','low']:\n",
        "\n",
        "  Price = data[types]\n",
        "  Means = list()\n",
        "\n",
        "  for i in range(len(Price) - step):\n",
        "    Means.append(sum(Price[i:i+step])/step)  \n",
        "\n",
        "  Error = math.sqrt(mean_squared_error(Price[step:],Means))\n",
        "  Base_errors.append(Error)   \n",
        "  print(\"Base case error for\",types,\"=\",Error)    \n",
        "  plt.plot(Price,label=types)\n",
        "plt.legend()\n",
        "Price = data[price_type]\n"
      ],
      "execution_count": null,
      "outputs": []
    },
    {
      "cell_type": "code",
      "metadata": {
        "id": "BJMF8A43fRDn"
      },
      "source": [
        "# MinMax Scalimg\n",
        "import numpy as np\n",
        "from sklearn.preprocessing import MinMaxScaler\n",
        "\n",
        "mms = MinMaxScaler(feature_range=(0,1))\n",
        "Price = mms.fit_transform(np.array(Price).reshape(-1,1))\n",
        "\n",
        "# Dataset split into train and test sets\n",
        "\n",
        "train_size = int(len(Price)*0.80)\n",
        "test_size = len(Price)-train_size\n",
        "train_data,test_data = Price[0:train_size,:],Price[train_size:len(Price),:1]\n",
        "train_size, test_size"
      ],
      "execution_count": null,
      "outputs": []
    },
    {
      "cell_type": "code",
      "metadata": {
        "id": "9vrGZ0yPfRDp"
      },
      "source": [
        "# Converting data to timeseries input\n",
        "\n",
        "def create_dataset(dataset, time_step=1):\n",
        "\tdataX, dataY = [], []\n",
        "\tfor i in range(len(dataset)-time_step-1):\n",
        "\t\ta = dataset[i:(i+time_step), 0]   ###i=0, 0,1,2,3-----99   100 \n",
        "\t\tdataX.append(a)\n",
        "\t\tdataY.append(dataset[i + time_step, 0])\n",
        "\treturn np.array(dataX), np.array(dataY)\n",
        "\n",
        "time_step = step\n",
        "trainX, trainY = create_dataset(train_data, time_step)\n",
        "testX, testY = create_dataset(test_data, time_step)\n",
        "\n",
        "print(trainX.shape), print(trainY.shape)\n",
        "print(testX.shape), print(testY.shape)\n",
        "\n",
        "trainX = trainX.reshape(trainX.shape[0],trainX.shape[1] , 1)\n",
        "testX = testX.reshape(testX.shape[0],testX.shape[1] , 1)"
      ],
      "execution_count": null,
      "outputs": []
    },
    {
      "cell_type": "code",
      "metadata": {
        "id": "kpRu4zrNfRDs"
      },
      "source": [
        "# Stacked LSTM model\n",
        "\n",
        "from tensorflow.keras.models import Sequential\n",
        "from tensorflow.keras.layers import LSTM\n",
        "from tensorflow.keras.layers import Dense\n",
        "\n",
        "lstm = Sequential()\n",
        "lstm.add(LSTM(128, return_sequences=True, input_shape= (step, 1)))\n",
        "lstm.add(LSTM(64, return_sequences=False))\n",
        "lstm.add(Dense(25))\n",
        "lstm.add(Dense(1))\n",
        "lstm.compile(optimizer='adam', loss='mean_squared_error')\n",
        "lstm.summary()"
      ],
      "execution_count": null,
      "outputs": []
    },
    {
      "cell_type": "code",
      "metadata": {
        "id": "zVk4qdNXfRDu"
      },
      "source": [
        "lstm.fit(trainX,trainY,validation_data=(testX,testY),epochs=100,batch_size=64,verbose=1)"
      ],
      "execution_count": null,
      "outputs": []
    },
    {
      "cell_type": "code",
      "metadata": {
        "id": "t47Ng71QYTBw"
      },
      "source": [
        "# Simple RNN\n",
        "\n",
        "from tensorflow.keras.models import Sequential\n",
        "from tensorflow.keras.layers import SimpleRNN\n",
        "from tensorflow.keras.layers import Dense\n",
        "\n",
        "rnn = Sequential()\n",
        "rnn.add(LSTM(128, return_sequences=True, input_shape= (step, 1)))\n",
        "rnn.add(LSTM(64, return_sequences=False))\n",
        "rnn.add(Dense(25))\n",
        "rnn.add(Dense(1))\n",
        "rnn.compile(optimizer='adam', loss='mean_squared_error')\n",
        "rnn.summary()"
      ],
      "execution_count": null,
      "outputs": []
    },
    {
      "cell_type": "code",
      "metadata": {
        "id": "B5kEB3oKZWKp"
      },
      "source": [
        "rnn.fit(trainX,trainY,validation_data=(testX,testY),epochs=100,batch_size=64,verbose=1)"
      ],
      "execution_count": null,
      "outputs": []
    },
    {
      "cell_type": "code",
      "metadata": {
        "id": "P-beep2yaWaL"
      },
      "source": [
        "# GRU\n",
        "\n",
        "from tensorflow.keras.models import Sequential\n",
        "from tensorflow.keras.layers import GRU\n",
        "from tensorflow.keras.layers import Dense\n",
        "from tensorflow.keras.optimizers import SGD\n",
        "\n",
        "gru = Sequential()\n",
        "gru.add(LSTM(128, return_sequences=True, input_shape= (step, 1)))\n",
        "gru.add(LSTM(64, return_sequences=False))\n",
        "gru.add(Dense(25))\n",
        "gru.add(Dense(1))\n",
        "gru.compile(optimizer=SGD(lr=0.01, decay=1e-7, momentum=0.9, nesterov=False),loss='mean_squared_error')\n",
        "gru.summary()"
      ],
      "execution_count": null,
      "outputs": []
    },
    {
      "cell_type": "code",
      "metadata": {
        "id": "rNmW4iiFbp_C"
      },
      "source": [
        "gru.fit(trainX,trainY,validation_data=(testX,testY),epochs=100,batch_size=64,verbose=1)"
      ],
      "execution_count": null,
      "outputs": []
    },
    {
      "cell_type": "code",
      "metadata": {
        "id": "hjx4-iO5fRDv"
      },
      "source": [
        "# Prediction and error calculation for lstm\n",
        "\n",
        "train_predict_lstm = lstm.predict(trainX)\n",
        "test_predict_lstm = lstm.predict(testX)\n",
        "\n",
        "train_predict_rnn = rnn.predict(trainX)\n",
        "test_predict_rnn = rnn.predict(testX)\n",
        "\n",
        "train_predict_gru = gru.predict(trainX)\n",
        "test_predict_gru = gru.predict(testX)\n",
        "\n",
        "\n",
        "\n",
        "print(\"Shape of LSTM test\",test_predict_lstm.shape)\n",
        "print(\"Shape of RNN test\",test_predict_rnn.shape)\n",
        "print(\"Shape of GRU test\",test_predict_gru.shape)\n",
        "\n",
        "testY_lstm = testY.reshape(test_size-step-1,1)\n",
        "trainY_lstm = trainY.reshape(train_size-step-1,1)\n",
        "\n",
        "testY_rnn = testY.reshape(test_size-step-1,1)\n",
        "trainY_rnn = trainY.reshape(train_size-step-1,1)\n",
        "\n",
        "testY_gru = testY.reshape(test_size-step-1,1)\n",
        "trainY_gru = trainY.reshape(train_size-step-1,1)\n",
        "\n",
        "testY_lstm = mms.inverse_transform(testY_lstm)\n",
        "trainY_lstm = mms.inverse_transform(trainY_lstm)\n",
        "\n",
        "testY_rnn = mms.inverse_transform(testY_rnn)\n",
        "trainY_rnn = mms.inverse_transform(trainY_rnn)\n",
        "\n",
        "testY_gru = mms.inverse_transform(testY_gru)\n",
        "trainY_gru = mms.inverse_transform(trainY_gru)\n",
        "\n",
        "print(testY_lstm[0])\n",
        "print(trainY_lstm[0])\n",
        "\n",
        "train_predict_lstm = mms.inverse_transform(train_predict_lstm)\n",
        "test_predict_lstm = mms.inverse_transform(test_predict_lstm)\n",
        "train_predict_rnn = mms.inverse_transform(train_predict_rnn)\n",
        "test_predict_rnn = mms.inverse_transform(test_predict_rnn)\n",
        "train_predict_gru = mms.inverse_transform(train_predict_gru)\n",
        "test_predict_gru = mms.inverse_transform(test_predict_gru)\n",
        "\n",
        "print(train_predict_lstm[0])\n",
        "print(test_predict_lstm[0])\n",
        "\n",
        "print(\"Train data error for LSTM model =\",math.sqrt(mean_squared_error(trainY_lstm,train_predict_lstm)))\n",
        "print(\"Test data error for LSTM model=\",math.sqrt(mean_squared_error(testY_lstm,test_predict_lstm)))\n",
        "print(\"----------------------------------------------------------------------\")\n",
        "print(\"Train data error for RNN model =\",math.sqrt(mean_squared_error(trainY_rnn,train_predict_rnn)))\n",
        "print(\"Test data error for RNN model=\",math.sqrt(mean_squared_error(testY_rnn,test_predict_rnn)))\n",
        "print(\"----------------------------------------------------------------------\")\n",
        "print(\"Train data error for GRU model =\",math.sqrt(mean_squared_error(trainY_gru,train_predict_gru)))\n",
        "print(\"Test data error for GRU model=\",math.sqrt(mean_squared_error(testY_gru,test_predict_gru)))\n",
        "\n",
        "plt.figure(figsize=(14,8))\n",
        "plt.title(\"Different Models\")\n",
        "plt.plot(test_predict_lstm,label = \"predict_LSTM\")\n",
        "plt.plot(testY_lstm,label = \"original\")\n",
        "plt.plot(test_predict_rnn,label = \"predict_SimpleRNN\")\n",
        "plt.plot(test_predict_gru,label = \"predict_GRU\")\n",
        "plt.legend()"
      ],
      "execution_count": null,
      "outputs": []
    }
  ]
}